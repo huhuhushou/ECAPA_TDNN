{
 "cells": [
  {
   "cell_type": "code",
   "execution_count": null,
   "metadata": {
    "vscode": {
     "languageId": "plaintext"
    }
   },
   "outputs": [],
   "source": [
    "import os\n",
    "import subprocess\n",
    "from tqdm import tqdm\n",
    "def convert_mp3_to_wav(input_path, output_path=None, sample_rate=16000):\n",
    "    \"\"\"\n",
    "    使用ffmpeg将MP3文件转换为WAV格式\n",
    "    \n",
    "    参数:\n",
    "        input_path: MP3文件路径\n",
    "        output_path: 输出WAV文件路径，默认为None（自动生成）\n",
    "        sample_rate: 输出音频采样率，默认16kHz\n",
    "    \"\"\"\n",
    "    # 生成输出路径\n",
    "    if output_path is None:\n",
    "        # 默认在同目录下创建同名WAV文件\n",
    "        output_path = os.path.splitext(input_path)[0] + '.wav'\n",
    "    \n",
    "    # 确保输出目录存在\n",
    "    os.makedirs(os.path.dirname(output_path), exist_ok=True)\n",
    "    \n",
    "    # 调用ffmpeg转换音频\n",
    "    try:\n",
    "        cmd = [\n",
    "            'ffmpeg', '-i', input_path,\n",
    "            '-vn',               # 禁用视频流\n",
    "            '-acodec', 'pcm_s16le',  # 16位PCM编码\n",
    "            '-ar', str(sample_rate),  # 采样率\n",
    "            '-ac', '1',          # 单声道\n",
    "            '-y',                # 覆盖已存在文件\n",
    "            output_path\n",
    "        ]\n",
    "        subprocess.run(cmd, stdout=subprocess.PIPE, stderr=subprocess.PIPE, check=True)\n",
    "        print(f\"已成功转换: {input_path} -> {output_path}\")\n",
    "        return True\n",
    "    except subprocess.CalledProcessError as e:\n",
    "        print(f\"处理失败: {e}\")\n",
    "        return False\n",
    "    except Exception as e:\n",
    "        print(f\"出错: {e}\")\n",
    "        return False\n",
    "\n",
    "# 示例使用 - MP3转WAV\n",
    "input_mp3 = \"/Users/mac/Desktop/ECAPA_TDNN/audios/yinpin.mp3\"  # 输入MP3文件路径\n",
    "output_wav = \"/Users/mac/Desktop/ECAPA_TDNN/audios/yinpin.wav\"  # 输出WAV文件路径\n",
    "convert_mp3_to_wav(input_mp3, output_wav)"
   ]
  }
 ],
 "metadata": {
  "language_info": {
   "name": "python"
  }
 },
 "nbformat": 4,
 "nbformat_minor": 2
}
